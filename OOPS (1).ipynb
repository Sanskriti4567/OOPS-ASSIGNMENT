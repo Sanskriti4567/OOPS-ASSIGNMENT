{
  "nbformat": 4,
  "nbformat_minor": 0,
  "metadata": {
    "colab": {
      "provenance": []
    },
    "kernelspec": {
      "name": "python3",
      "display_name": "Python 3"
    },
    "language_info": {
      "name": "python"
    }
  },
  "cells": [
    {
      "cell_type": "markdown",
      "source": [
        "# **PYTHON OOPS**"
      ],
      "metadata": {
        "id": "L_jtgBBQ_tq_"
      }
    },
    {
      "cell_type": "markdown",
      "source": [
        "1. What is Object-Oriented Programming (OOP)?\n",
        "\n",
        ">>OOP is a way of writing programs where we organize code around objects (things) instead of just functions. These objects represent real-world entities and have both data (variables) and behavior (methods).\n",
        "\n",
        "\n",
        "---\n",
        "\n",
        "2. What is a class in OOP?\n",
        "\n",
        ">>A class is like a blueprint or template for creating objects. It defines how the objects will look (attributes) and what they can do (methods).\n",
        "\n",
        "\n",
        "---\n",
        "\n",
        "3. What is an object in OOP?\n",
        "\n",
        ">>An object is an actual instance created from a class. It has its own data and can use the functions defined in the class.\n",
        "\n",
        "\n",
        "---\n",
        "\n",
        "4. Difference between abstraction and encapsulation\n",
        "\n",
        "\n",
        ">>Abstraction → Hiding the complex implementation and only showing the necessary details.\n",
        "\n",
        ">>Encapsulation → Wrapping data and methods together and controlling access using things like private/public variables.\n",
        "\n",
        "\n",
        "\n",
        "---\n",
        "\n",
        "5. What are dunder methods in Python?\n",
        "\n",
        ">>Dunder methods are special methods in Python whose names start and end with _ (double underscores). Example: __init, __str, __len_. They allow us to customize how objects behave.\n",
        "\n",
        "\n",
        "---\n",
        "\n",
        "6. Explain the concept of inheritance in OOP\n",
        "\n",
        ">>Inheritance means one class can use the properties and methods of another class. It allows code reusability. Example: a Car class can inherit from a Vehicle class.\n",
        "\n",
        "\n",
        "---\n",
        "\n",
        "7. What is polymorphism in OOP?\n",
        "\n",
        ">>Polymorphism means “many forms”. It allows the same function name or operator to behave differently depending on the object. Example: + works differently for numbers and strings.\n",
        "\n",
        "\n",
        "---\n",
        "\n",
        "8. How is encapsulation achieved in Python?\n",
        "\n",
        ">>Encapsulation is done by using private variables (like _var or __var) and methods. We provide getters/setters to safely access and modify them.\n",
        "\n",
        "\n",
        "---\n",
        "\n",
        "9. What is a constructor in Python?\n",
        "\n",
        ">>A constructor is a special method named _init_ that runs automatically when an object is created. It is used to initialize values.\n",
        "\n",
        "\n",
        "---\n",
        "\n",
        "10. What are class and static methods in Python?\n",
        "\n",
        "\n",
        ">>Class method: Works with the class itself, takes cls as the first argument.\n",
        "\n",
        ">>Static method: Does not depend on class or object, just a normal function inside the class.\n",
        "\n",
        "\n",
        "\n",
        "---\n",
        "\n",
        "11. What is method overloading in Python?\n",
        "\n",
        ">>Python doesn’t support true method overloading. But we can achieve it by giving default arguments or using *args. Basically, one method can handle different number of inputs.\n",
        "\n",
        "\n",
        "---\n",
        "\n",
        "12. What is method overriding in OOP?\n",
        "\n",
        ">>When a child class defines a method with the same name as its parent class, the child’s method replaces the parent’s method.\n",
        "\n",
        "\n",
        "---\n",
        "\n",
        "13. What is a property decorator in Python?\n",
        "\n",
        ">>property decorator is used to turn a method into a read-only attribute. It helps to use methods like variables.\n",
        "\n",
        "\n",
        "---\n",
        "\n",
        "14. Why is polymorphism important in OOP?\n",
        "\n",
        ">>It makes programs more flexible and reusable. We can write code that works with different objects in a general way.\n",
        "\n",
        "\n",
        "---\n",
        "\n",
        "15. What is an abstract class in Python?\n",
        "\n",
        ">>An abstract class is a class that cannot be directly used to make objects. It contains abstract methods (defined but not implemented). It’s used as a base for other classes.\n",
        "\n",
        "\n",
        "---\n",
        "\n",
        "16. What are the advantages of OOP?\n",
        "\n",
        ">>Reusability of code\n",
        "\n",
        ">>Easier to manage and maintain\n",
        "\n",
        ">>Real-world modeling\n",
        "\n",
        ">>Security (encapsulation)\n",
        "\n",
        ">>Flexibility (polymorphism)\n",
        "\n",
        "\n",
        "\n",
        "---\n",
        "\n",
        "17. Difference between a class variable and an instance variable\n",
        "\n",
        ">>Class variable → Shared by all objects of the class.\n",
        "\n",
        ">>Instance variable → Unique for each object.\n",
        "\n",
        "\n",
        "\n",
        "---\n",
        "\n",
        "18. What is multiple inheritance in Python?\n",
        "When a class inherits from more than one parent class. Example:\n",
        "\n",
        ">>class A: pass  \n",
        ">>class B: pass  \n",
        ">>class C(A, B): pass\n",
        "\n",
        "\n",
        "---\n",
        "\n",
        "19. Purpose of _str_ and _repr_ methods\n",
        "\n",
        ">>_str_: Defines how the object is shown when printed (user-friendly).\n",
        "\n",
        ">>_repr_: Official string representation, useful for debugging.\n",
        "\n",
        "\n",
        "\n",
        "---\n",
        "\n",
        "20. Significance of super() function in Python\n",
        "\n",
        ">>super() is used to call methods of the parent class from the child class, especially in inheritance.\n",
        "\n",
        "\n",
        "---\n",
        "\n",
        "21. Significance of the _del_ method in Python?\n",
        "\n",
        ">>It’s a destructor method. It is called when an object is deleted to clean up resources.\n",
        "\n",
        "\n",
        "---\n",
        "\n",
        "22. Difference between @staticmethod and @classmethod in Python?\n",
        "\n",
        ">>@staticmethod: No self or cls needed, behaves like a normal function.\n",
        "\n",
        ">>@classmethod: Takes cls as argument, works with the class itself.\n",
        "\n",
        "\n",
        "\n",
        "---\n",
        "\n",
        "23. How does polymorphism work in Python with inheritance?\n",
        "\n",
        ">>When child classes override a parent method, and we call the method using a parent reference, Python decides which version to run based on the object type.\n",
        "\n",
        "\n",
        "---\n",
        "\n",
        "24. What is method chaining in Python OOP?\n",
        "\n",
        ">>Method chaining means calling multiple methods in one line because each method returns self. Example:\n",
        "\n",
        "obj.setName(\"Ram\").setAge(20).display()\n",
        "\n",
        "\n",
        "---\n",
        "\n",
        "25. Purpose of the _call_ method in Python\n",
        "\n",
        ">>If a class has _call_, its object can be used like a function. Example:\n",
        "\n",
        ">>class Test:\n",
        "    def _call_(self): print(\"Hello\")\n",
        "obj = Test()\n",
        "obj()   # behaves like a function\n"
      ],
      "metadata": {
        "id": "gcqf_-sMBrBq"
      }
    },
    {
      "cell_type": "code",
      "source": [],
      "metadata": {
        "id": "vAsqF5GYNXsl"
      },
      "execution_count": null,
      "outputs": []
    },
    {
      "cell_type": "markdown",
      "source": [
        "## practical Question"
      ],
      "metadata": {
        "id": "0QAOgzKbN7-l"
      }
    },
    {
      "cell_type": "code",
      "source": [],
      "metadata": {
        "id": "rsnWxwjdEu61"
      },
      "execution_count": null,
      "outputs": []
    },
    {
      "cell_type": "code",
      "source": [
        "#Q1. Create a parent class Animal with a method speak() that prints a generic message.\n",
        " #Create a child class Dog that overrides the speak() method to print \"Bark!\".\n",
        "\n",
        "\n",
        "class Animal:\n",
        "    def speak(self):\n",
        "        print(\"This is an animal sound\")\n",
        "\n",
        "class Dog(Animal):\n",
        "    def speak(self):\n",
        "        print(\"Bark!\")\n",
        "\n",
        "# Test\n",
        "a = Animal()\n",
        "a.speak()\n",
        "\n",
        "d = Dog()\n",
        "d.speak()\n"
      ],
      "metadata": {
        "colab": {
          "base_uri": "https://localhost:8080/"
        },
        "id": "5gqJaW16E9AB",
        "outputId": "546046aa-aff3-4f63-e191-8f76a82b3f85"
      },
      "execution_count": null,
      "outputs": [
        {
          "output_type": "stream",
          "name": "stdout",
          "text": [
            "This is an animal sound\n",
            "Bark!\n"
          ]
        }
      ]
    },
    {
      "cell_type": "code",
      "source": [
        "#Q2. Write a program to create an abstract class Shape with a method area().\n",
        "# Derive classes Circle and Rectangle from it and implement the area() method in both.\n",
        "\n",
        "from abc import ABC, abstractmethod\n",
        "import math\n",
        "\n",
        "class Shape(ABC):\n",
        "    @abstractmethod\n",
        "    def area(self):\n",
        "        pass\n",
        "\n",
        "class Circle(Shape):\n",
        "    def __init__(self, radius):\n",
        "        self.radius = radius\n",
        "\n",
        "    def area(self):\n",
        "        return math.pi * self.radius * self.radius\n",
        "\n",
        "class Rectangle(Shape):\n",
        "    def __init__(self, length, width):\n",
        "        self.length = length\n",
        "        self.width = width\n",
        "\n",
        "    def area(self):\n",
        "        return self.length * self.width\n",
        "\n",
        "# Test\n",
        "c = Circle(5)\n",
        "print(\"Circle Area:\", c.area())\n",
        "\n",
        "r = Rectangle(4, 6)\n",
        "print(\"Rectangle Area:\", r.area())"
      ],
      "metadata": {
        "colab": {
          "base_uri": "https://localhost:8080/"
        },
        "id": "5wqsV-jrGFD9",
        "outputId": "739eb4a1-ae14-4501-a141-62d09669d8e5"
      },
      "execution_count": null,
      "outputs": [
        {
          "output_type": "stream",
          "name": "stdout",
          "text": [
            "Circle Area: 78.53981633974483\n",
            "Rectangle Area: 24\n"
          ]
        }
      ]
    },
    {
      "cell_type": "code",
      "source": [
        "#Q3. Implement a multi-level inheritance scenario where a class Vehicle has an attribute type.\n",
        "# Derive a class Car and further derive a class ElectricCar that adds a battery attribute.\n",
        "\n",
        "class Vehicle:\n",
        "    def __init__(self, type):\n",
        "        self.type = type\n",
        "\n",
        "class Car(Vehicle):\n",
        "    def __init__(self, type, brand):\n",
        "        super().__init__(type)\n",
        "        self.brand = brand\n",
        "\n",
        "class ElectricCar(Car):\n",
        "    def __init__(self, type, brand, battery):\n",
        "        super().__init__(type, brand)\n",
        "        self.battery = battery\n",
        "\n",
        "# Test\n",
        "e = ElectricCar(\"Four Wheeler\", \"Tesla\", \"85 kWh\")\n",
        "print(e.type, e.brand, e.battery)\n"
      ],
      "metadata": {
        "colab": {
          "base_uri": "https://localhost:8080/"
        },
        "id": "Rj2F0q_fGThX",
        "outputId": "191cb84c-8c10-44a4-e783-825ee5cff562"
      },
      "execution_count": null,
      "outputs": [
        {
          "output_type": "stream",
          "name": "stdout",
          "text": [
            "Four Wheeler Tesla 85 kWh\n"
          ]
        }
      ]
    },
    {
      "cell_type": "code",
      "source": [
        "#Q4. Demonstrate polymorphism by creating a base class Bird with a method fly().\n",
        " #Create two derived classes Sparrow and Penguin that override the fly() method.\n",
        "\n",
        "class Bird:\n",
        "    def fly(self):\n",
        "        print(\"Some birds can fly\")\n",
        "\n",
        "class Sparrow(Bird):\n",
        "    def fly(self):\n",
        "        print(\"Sparrow flies high\")\n",
        "\n",
        "class Penguin(Bird):\n",
        "    def fly(self):\n",
        "        print(\"Penguins cannot fly\")\n",
        "\n",
        "# Test\n",
        "birds = [Sparrow(), Penguin()]\n",
        "for b in birds:\n",
        "    b.fly()\n"
      ],
      "metadata": {
        "colab": {
          "base_uri": "https://localhost:8080/"
        },
        "id": "t3Gx1iHXGhp2",
        "outputId": "10b488b4-9a02-451d-86dc-fcdced0cb2a5"
      },
      "execution_count": null,
      "outputs": [
        {
          "output_type": "stream",
          "name": "stdout",
          "text": [
            "Sparrow flies high\n",
            "Penguins cannot fly\n"
          ]
        }
      ]
    },
    {
      "cell_type": "code",
      "source": [
        "#Q5. Write a program to demonstrate encapsulation by creating a class BankAccount with private attributes balance\n",
        "#and methods to deposit, withdraw, and check balance.\n",
        "\n",
        "class BankAccount:\n",
        "    def __init__(self, balance=0):\n",
        "        self.__balance = balance\n",
        "\n",
        "    def deposit(self, amount):\n",
        "        self.__balance += amount\n",
        "\n",
        "    def withdraw(self, amount):\n",
        "        if amount <= self.__balance:\n",
        "            self.__balance -= amount\n",
        "        else:\n",
        "            print(\"Insufficient balance\")\n",
        "\n",
        "    def check_balance(self):\n",
        "        return self.__balance\n",
        "\n",
        "# Test\n",
        "acc = BankAccount(1000)\n",
        "acc.deposit(500)\n",
        "acc.withdraw(300)\n",
        "print(\"Balance:\", acc.check_balance())"
      ],
      "metadata": {
        "colab": {
          "base_uri": "https://localhost:8080/"
        },
        "id": "67TohtFJGsiJ",
        "outputId": "c09dc93d-c970-44d6-ae90-4b006e655e9f"
      },
      "execution_count": null,
      "outputs": [
        {
          "output_type": "stream",
          "name": "stdout",
          "text": [
            "Balance: 1200\n"
          ]
        }
      ]
    },
    {
      "cell_type": "code",
      "source": [
        "#Q6. Demonstrate runtime polymorphism using a method play() in a base class Instrument.\n",
        "# Derive classes Guitar and Piano that implement their own version of play().\n",
        "\n",
        "class Instrument:\n",
        "    def play(self):\n",
        "        print(\"Instrument is playing\")\n",
        "\n",
        "class Guitar(Instrument):\n",
        "    def play(self):\n",
        "        print(\"Playing Guitar\")\n",
        "\n",
        "class Piano(Instrument):\n",
        "    def play(self):\n",
        "        print(\"Playing Piano\")\n",
        "\n",
        "# Test\n",
        "instruments = [Guitar(), Piano()]\n",
        "for i in instruments:\n",
        "    i.play()\n"
      ],
      "metadata": {
        "colab": {
          "base_uri": "https://localhost:8080/"
        },
        "id": "BW50QDwHG7Nc",
        "outputId": "123d7c53-620b-4dd0-d05b-b99b412b4ba6"
      },
      "execution_count": null,
      "outputs": [
        {
          "output_type": "stream",
          "name": "stdout",
          "text": [
            "Playing Guitar\n",
            "Playing Piano\n"
          ]
        }
      ]
    },
    {
      "cell_type": "code",
      "source": [
        "#Q7. Create a class MathOperations with a class method add_numbers() to add two numbers\n",
        "#and a static method subtract_numbers() to subtract two numbers.\n",
        "\n",
        "class MathOperations:\n",
        "    @classmethod\n",
        "    def add_numbers(cls, a, b):\n",
        "        return a + b\n",
        "\n",
        "    @staticmethod\n",
        "    def subtract_numbers(a, b):\n",
        "        return a - b\n",
        "\n",
        "# Test\n",
        "print(MathOperations.add_numbers(10, 5))\n",
        "print(MathOperations.subtract_numbers(10, 5))"
      ],
      "metadata": {
        "colab": {
          "base_uri": "https://localhost:8080/"
        },
        "id": "J2fJx5XpHELl",
        "outputId": "01bd2865-8a6b-4b03-cde9-2cf611268543"
      },
      "execution_count": null,
      "outputs": [
        {
          "output_type": "stream",
          "name": "stdout",
          "text": [
            "15\n",
            "5\n"
          ]
        }
      ]
    },
    {
      "cell_type": "code",
      "source": [
        "#Q8. Implement a class Person with a class method to count the total number of persons created.\n",
        "\n",
        "class Person:\n",
        "    count = 0\n",
        "\n",
        "    def __init__(self, name):\n",
        "        self.name = name\n",
        "        Person.count += 1\n",
        "\n",
        "    @classmethod\n",
        "    def total_persons(cls):\n",
        "        return cls.count\n",
        "\n",
        "# Test\n",
        "p1 = Person(\"Alice\")\n",
        "p2 = Person(\"Bob\")\n",
        "print(\"Total Persons:\", Person.total_persons())"
      ],
      "metadata": {
        "colab": {
          "base_uri": "https://localhost:8080/"
        },
        "id": "ZSI46IvMHOSX",
        "outputId": "f5d625eb-26a0-4de2-f24f-cb66e82b3c4f"
      },
      "execution_count": null,
      "outputs": [
        {
          "output_type": "stream",
          "name": "stdout",
          "text": [
            "Total Persons: 2\n"
          ]
        }
      ]
    },
    {
      "cell_type": "code",
      "source": [
        "#Q9. Write a class Fraction with attributes numerator and denominator.\n",
        "#Override the str method to display the fraction as \"numerator/denominator\".\n",
        "\n",
        "class Fraction:\n",
        "    def __init__(self, numerator, denominator):\n",
        "        self.numerator = numerator\n",
        "        self.denominator = denominator\n",
        "\n",
        "    def __str__(self):\n",
        "        return f\"{self.numerator}/{self.denominator}\"\n",
        "\n",
        "# Test\n",
        "f = Fraction(3, 4)\n",
        "print(f)\n"
      ],
      "metadata": {
        "colab": {
          "base_uri": "https://localhost:8080/"
        },
        "id": "A7LE0kQIIEnw",
        "outputId": "ff791b3b-a95f-4758-a6ac-46c0b330e49f"
      },
      "execution_count": null,
      "outputs": [
        {
          "output_type": "stream",
          "name": "stdout",
          "text": [
            "3/4\n"
          ]
        }
      ]
    },
    {
      "cell_type": "code",
      "source": [
        "#Q10. Demonstrate operator overloading by creating a class Vector and overriding the add method to add two vectors.\n",
        "\n",
        "class Vector:\n",
        "    def __init__(self, x, y):\n",
        "        self.x = x\n",
        "        self.y = y\n",
        "\n",
        "    def __add__(self, other):\n",
        "        return Vector(self.x + other.x, self.y + other.y)\n",
        "\n",
        "    def __str__(self):\n",
        "        return f\"({self.x}, {self.y})\"\n",
        "\n",
        "# Test\n",
        "v1 = Vector(2, 3)\n",
        "v2 = Vector(4, 5)\n",
        "print(v1 + v2)\n"
      ],
      "metadata": {
        "colab": {
          "base_uri": "https://localhost:8080/"
        },
        "id": "LpMBUQx0I2OH",
        "outputId": "be43623d-796d-4b66-e8ac-507e45f9979b"
      },
      "execution_count": null,
      "outputs": [
        {
          "output_type": "stream",
          "name": "stdout",
          "text": [
            "(6, 8)\n"
          ]
        }
      ]
    },
    {
      "cell_type": "code",
      "source": [
        "#Q11. Create a class Person with attributes name and age.\n",
        "#Add a method greet() that prints \"Hello, my name is {name} and I am {age} years old.\"\n",
        "\n",
        "class Person:\n",
        "    def __init__(self, name, age):\n",
        "        self.name = name\n",
        "        self.age = age\n",
        "\n",
        "    def greet(self):\n",
        "        print(f\"Hello, my name is {self.name} and I am {self.age} years old.\")\n",
        "\n",
        "# Test\n",
        "p = Person(\"John\", 25)\n",
        "p.greet()\n"
      ],
      "metadata": {
        "colab": {
          "base_uri": "https://localhost:8080/"
        },
        "id": "rJgDzrBYI_5i",
        "outputId": "8daaedc5-f637-4eaa-aa9b-c7cf9349b31f"
      },
      "execution_count": null,
      "outputs": [
        {
          "output_type": "stream",
          "name": "stdout",
          "text": [
            "Hello, my name is John and I am 25 years old.\n"
          ]
        }
      ]
    },
    {
      "cell_type": "code",
      "source": [
        "#Q12. Implement a class Student with attributes name and grades. Create a method average_grade()\n",
        "#to compute the average of the grades.\n",
        "\n",
        "class Student:\n",
        "    def __init__(self, name, grades):\n",
        "        self.name = name\n",
        "        self.grades = grades\n",
        "\n",
        "    def average_grade(self):\n",
        "        return sum(self.grades) / len(self.grades)\n",
        "\n",
        "# Test\n",
        "s = Student(\"Alice\", [85, 90, 95])\n",
        "print(\"Average Grade:\", s.average_grade())"
      ],
      "metadata": {
        "colab": {
          "base_uri": "https://localhost:8080/"
        },
        "id": "n_HVRwWoJJcc",
        "outputId": "37adcd46-09f3-4668-b651-49aeb361f99e"
      },
      "execution_count": null,
      "outputs": [
        {
          "output_type": "stream",
          "name": "stdout",
          "text": [
            "Average Grade: 90.0\n"
          ]
        }
      ]
    },
    {
      "cell_type": "code",
      "source": [
        "#Q13. Create a class Rectangle with methods set_dimensions() to set the\n",
        " #dimensions and area() to calculate the area.\n",
        "\n",
        "class Rectangle:\n",
        "    def set_dimensions(self, length, width):\n",
        "        self.length = length\n",
        "        self.width = width\n",
        "\n",
        "    def area(self):\n",
        "        return self.length * self.width\n",
        "\n",
        "# Test\n",
        "r = Rectangle()\n",
        "r.set_dimensions(5, 4)\n",
        "print(\"Area:\", r.area())"
      ],
      "metadata": {
        "colab": {
          "base_uri": "https://localhost:8080/"
        },
        "id": "l0ETBvwpJeJa",
        "outputId": "3056e60e-55f5-4171-f6ef-28c36e8feb52"
      },
      "execution_count": null,
      "outputs": [
        {
          "output_type": "stream",
          "name": "stdout",
          "text": [
            "Area: 20\n"
          ]
        }
      ]
    },
    {
      "cell_type": "code",
      "source": [
        "#Q14. Create a class Employee with a method calculate_salary() that computes the salary based\n",
        "#on hours worked and hourly rate. Create a derived class Manager that adds a bonus to the salary.\n",
        "\n",
        "class Employee:\n",
        "    def __init__(self, hours, rate):\n",
        "        self.hours = hours\n",
        "        self.rate = rate\n",
        "\n",
        "    def calculate_salary(self):\n",
        "        return self.hours * self.rate\n",
        "\n",
        "class Manager(Employee):\n",
        "    def __init__(self, hours, rate, bonus):\n",
        "        super().__init__(hours, rate)\n",
        "        self.bonus = bonus\n",
        "\n",
        "    def calculate_salary(self):\n",
        "        return super().calculate_salary() + self.bonus\n",
        "\n",
        "# Test\n",
        "e = Employee(40, 20)\n",
        "print(\"Employee Salary:\", e.calculate_salary())\n",
        "\n",
        "m = Manager(40, 30, 500)\n",
        "print(\"Manager Salary:\", m.calculate_salary())\n"
      ],
      "metadata": {
        "colab": {
          "base_uri": "https://localhost:8080/"
        },
        "id": "2wMM77r-Jp3Y",
        "outputId": "f963b9f5-5f97-4de6-88fc-870f1e96aa3a"
      },
      "execution_count": null,
      "outputs": [
        {
          "output_type": "stream",
          "name": "stdout",
          "text": [
            "Employee Salary: 800\n",
            "Manager Salary: 1700\n"
          ]
        }
      ]
    },
    {
      "cell_type": "code",
      "source": [],
      "metadata": {
        "id": "dj90kQP8K18r"
      },
      "execution_count": null,
      "outputs": []
    },
    {
      "cell_type": "code",
      "source": [],
      "metadata": {
        "id": "PrtZgzSiFwPg"
      },
      "execution_count": null,
      "outputs": []
    },
    {
      "cell_type": "code",
      "source": [],
      "metadata": {
        "id": "Lu718R_4Fpjm"
      },
      "execution_count": null,
      "outputs": []
    },
    {
      "cell_type": "code",
      "source": [],
      "metadata": {
        "id": "34bpgNwoFm6N"
      },
      "execution_count": null,
      "outputs": []
    },
    {
      "cell_type": "code",
      "source": [],
      "metadata": {
        "id": "1gAGVnQhFd7j"
      },
      "execution_count": null,
      "outputs": []
    }
  ]
}